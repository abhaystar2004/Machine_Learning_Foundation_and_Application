{
  "cells": [
    {
      "cell_type": "markdown",
      "metadata": {
        "id": "S2YG7kyCDwKd"
      },
      "source": [
        "Import necessary modules/libraries"
      ]
    },
    {
      "cell_type": "code",
      "execution_count": null,
      "metadata": {
        "id": "79fNcsOPzn0t"
      },
      "outputs": [],
      "source": [
        "import numpy as np\n",
        "from sklearn.model_selection import train_test_split\n",
        "from sklearn import datasets"
      ]
    },
    {
      "cell_type": "markdown",
      "metadata": {
        "id": "7BVjcnqTD12M"
      },
      "source": [
        "Create the Naive-Bayes Classifier class with the predict method and helper functions"
      ]
    },
    {
      "cell_type": "code",
      "execution_count": null,
      "metadata": {
        "id": "n6lwG8nH1rCe"
      },
      "outputs": [],
      "source": [
        "class NaiveBayes:\n",
        "\n",
        "  def fit(self, X, y):\n",
        "    n_samples, n_features= X.shape\n",
        "    self._classes= np.unique(y) #get the unique class-labels\n",
        "    n_classes= len(self._classes) #get no. of unique class labels\n",
        "\n",
        "    #arrays for storing mean, variance and prior probabilities\n",
        "    self._mean= np.zeros((n_classes, n_features), dtype=np.float64)\n",
        "    self._var= np.zeros((n_classes, n_features), dtype=np.float64)\n",
        "    self._priors= np.zeros((n_classes), dtype=np.float64)\n",
        "\n",
        "    for idx, c in enumerate(self._classes):\n",
        "      X_c=X[y==c] #select the rows belonging to a particular class-label\n",
        "\n",
        "      #calculate mean, variance and prior probabilities of the features for that class-label\n",
        "      self._mean[idx,:]= X_c.mean(axis=0)\n",
        "      self._var[idx,:]= X_c.var(axis=0)\n",
        "      self._priors[idx]= X_c.shape[0]/float(n_samples)\n",
        "\n",
        "  def predict(self, X):\n",
        "    y_pred= [self._predict(x) for x in X] #predict class-label for a single row of data in X\n",
        "    return np.array(y_pred)\n",
        "\n",
        "  def _predict(self, x):\n",
        "    probs= []\n",
        "\n",
        "    for idx, c in enumerate(self._classes):\n",
        "      prior= np.log(self._priors[idx]) #prior of that class-label c\n",
        "      posterior= np.sum(np.log(self._pdf(idx, x))) #posterior probability for all features in x\n",
        "      probs.append(posterior+prior)\n",
        "\n",
        "    return self._classes[np.argmax(probs)] #return the argmax class-label\n",
        "\n",
        "  def _pdf(self, class_idx, x):\n",
        "    mean= self._mean[class_idx]\n",
        "    var= self._var[class_idx]\n",
        "    f_val=(np.exp(-((x-mean)**2)/(2*var)))/(np.sqrt(2*np.pi*var)) #using the Gaussian Distribution\n",
        "    return f_val"
      ]
    },
    {
      "cell_type": "markdown",
      "metadata": {
        "id": "MB_bRdJqFyMm"
      },
      "source": [
        "Fitting an instance of the classifier, evaluating it's performance"
      ]
    },
    {
      "cell_type": "code",
      "execution_count": null,
      "metadata": {
        "id": "esHXjfqEFerf"
      },
      "outputs": [],
      "source": [
        "def accuracy(y_true, y_pred):\n",
        "  acc= np.sum(y_true==y_pred)/len(y_pred)\n",
        "  return acc"
      ]
    },
    {
      "cell_type": "code",
      "execution_count": null,
      "metadata": {
        "id": "efh2jZBtFwYJ"
      },
      "outputs": [],
      "source": [
        "#Create a binary classification dataset with 1000 data-points and 10 features\n",
        "X,y= datasets.make_classification(n_samples=1000, n_features=10, n_classes=2, random_state=25)\n",
        "X_train, X_test, y_train, y_test= train_test_split(X, y, test_size=0.3, random_state=25)"
      ]
    },
    {
      "cell_type": "code",
      "execution_count": null,
      "metadata": {
        "colab": {
          "base_uri": "https://localhost:8080/"
        },
        "id": "n3u5FqWsGaMw",
        "outputId": "4dec280c-3386-4ad2-d6cf-e50de66699b2"
      },
      "outputs": [
        {
          "name": "stdout",
          "output_type": "stream",
          "text": [
            "Classification accuracy:  0.9166666666666666\n"
          ]
        }
      ],
      "source": [
        "nbayes= NaiveBayes() #object of the NaiveBayes class\n",
        "nbayes.fit(X_train, y_train) #fit to training data\n",
        "y_preds= nbayes.predict(X_test) #get predicition on test data\n",
        "\n",
        "print(\"Classification accuracy: \", accuracy(y_test, y_preds)) #evaluate performance of classsifier"
      ]
    }
  ],
  "metadata": {
    "colab": {
      "provenance": []
    },
    "kernelspec": {
      "display_name": "Python 3",
      "name": "python3"
    },
    "language_info": {
      "name": "python"
    }
  },
  "nbformat": 4,
  "nbformat_minor": 0
}
